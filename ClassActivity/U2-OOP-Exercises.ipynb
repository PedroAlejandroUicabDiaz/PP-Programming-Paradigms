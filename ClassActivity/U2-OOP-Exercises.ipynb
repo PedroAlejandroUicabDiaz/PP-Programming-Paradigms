{
 "cells": [
  {
   "cell_type": "markdown",
   "metadata": {},
   "source": [
    "# Programming Paradigms \n",
    "\n",
    "## UNIT 2 .- OBJECT-ORIENTED PROGRAMMING\n",
    "\n",
    "###  CLASSES CREATION \n",
    "\n",
    "#### Professor: Romeo de Coss Martinez                      \n",
    "\n",
    "#### Student: Pedro Alejandro Uicab Diaz             \n",
    "#### Group: Data 3-A\n",
    "\n",
    "---"
   ]
  },
  {
   "cell_type": "markdown",
   "metadata": {},
   "source": [
    "## Rectangle Class"
   ]
  },
  {
   "cell_type": "code",
   "execution_count": 1,
   "metadata": {},
   "outputs": [],
   "source": [
    "class Rectangle:\n",
    "    \"\"\"\n",
    "    This is a class which represent the data and two basic opwearions - the area and perimeter of any rectangles.\n",
    "    It stores the data within lenght and width variables. \n",
    "    \"\"\"\n",
    "    \n",
    "    def __init__(self, lenght, width):\n",
    "        \"\"\"\n",
    "        This methotd builts a new rectangle class.\n",
    "        \n",
    "        :param lenght: lenght\n",
    "        :type lenght: int / float\n",
    "        :param width: width\n",
    "        :type width: int / float\n",
    "        \"\"\"\n",
    "        self.lenght = lenght\n",
    "        self.width = width\n",
    "    \n",
    "    def setPerimeter(self):\n",
    "        \"\"\"\n",
    "        This method computes the perimeter of any rectangle.\n",
    "        It returns a int / float value.\n",
    "        \"\"\"\n",
    "        if type(self.lenght) != str and type(self.width) != str:\n",
    "            return (self.lenght + self.lenght + self.width + self.width)\n",
    "        else:\n",
    "            raise TypeError(\"Set Value Error: Type incompatible\")\n",
    "            \n",
    "    def setArea(self):\n",
    "        \"\"\"\n",
    "        This method computes the area of any rectangle.\n",
    "        It returns a int / float value.\n",
    "        \"\"\"\n",
    "        if type(self.lenght) != str and type(self.width) != str:\n",
    "            return self.lenght * self.width\n",
    "        else:\n",
    "            raise TypeError(\"Set Value Error: Type incompatible\")\n",
    "        \n",
    "    def setDisplay(self):\n",
    "        \"\"\"\n",
    "        This method prints the width, lenght, area and perimeter.\n",
    "        \"\"\"\n",
    "        print(\"######################\")\n",
    "        print(\"Your measures was:\",self.lenght,\"x\",self.width,\".\\nArea:\",self.lenght * self.width,\"\\nPerimeter:\", 2 * self.lenght + self.width * 2)\n",
    "        print(\"######################\")"
   ]
  },
  {
   "cell_type": "code",
   "execution_count": 2,
   "metadata": {},
   "outputs": [
    {
     "name": "stdout",
     "output_type": "stream",
     "text": [
      "######################\n",
      "Your measures was: 2 x 3 .\n",
      "Area: 6 \n",
      "Perimeter: 10\n",
      "######################\n"
     ]
    }
   ],
   "source": [
    "rectangleA = Rectangle(2,3)\n",
    "rectangleA.setDisplay()"
   ]
  },
  {
   "cell_type": "markdown",
   "metadata": {},
   "source": [
    "## Bank Account Class"
   ]
  },
  {
   "cell_type": "code",
   "execution_count": 3,
   "metadata": {},
   "outputs": [],
   "source": [
    "class BankAccount:\n",
    "    \"\"\"\n",
    "    This is a class which represents a bank account and it uses the basic data to do some operations - deposit, withdrall,\n",
    "    bankfees and display the information typed.\n",
    "    It stores the account number, name and the balance.\n",
    "    \"\"\"\n",
    "    def __init__(self, accountNumber, name, balance):\n",
    "        \"\"\"\n",
    "        This methot builts a new bank account class.\n",
    "        \n",
    "        :param accountNumber: account number\n",
    "        :type accountNumber: int\n",
    "        :param name: name\n",
    "        :type name: str\n",
    "        :param balance: balance\n",
    "        :type balance: int / float\n",
    "        \"\"\"\n",
    "        if type(accountNumber) != str and type(accountNumber) != float:\n",
    "            self.accountNumber = accountNumber\n",
    "        else:\n",
    "            raise TypeError(\"Set Value Error: Type incompatible\")\n",
    "        if type(name) == str:\n",
    "            self.name = name\n",
    "        else:\n",
    "            raise TypeError(\"Set Value Error: Type incompatible\")\n",
    "        if type(balance) != str:\n",
    "            self.balance = balance\n",
    "        else:\n",
    "            raise TypeError(\"Set Value Error: Type incompatible\")\n",
    "        \n",
    "    def deposit(self, amount):\n",
    "        \"\"\" \n",
    "        This method computes the increase of client's money.\n",
    "        \n",
    "        :param amount: new amount added\n",
    "        :type amount: int / float\n",
    "        \"\"\"\n",
    "        if type(amount) == str:\n",
    "            raise TypeError(\"Set Value Error: Type incompatible\")\n",
    "        else:\n",
    "            self.balance = self.balance + amount\n",
    "            print(\"Your current balance is:\",self.balance)\n",
    "    \n",
    "    def withdrawall(self, WD):\n",
    "        \"\"\"\n",
    "        This method computes the decrease of client's money.\n",
    "        \n",
    "        :param WD: withdrawall\n",
    "        :type WD: inte / float\n",
    "        \"\"\"\n",
    "        if type(WD) == str:\n",
    "            raise TypeError(\"Set Value Error: Type incompatible\")\n",
    "        else:\n",
    "            self.balance = self.balance - WD\n",
    "            print(\"Your current balance is:\",self.balance)\n",
    "        \n",
    "    def bankfees(self):\n",
    "        \"\"\"\n",
    "        This method computes the discount over the current balance state.\n",
    "        \"\"\"\n",
    "        self.balance = self.balance -(self.balance * .05)\n",
    "        print(\"Your current balance is:\",self.balance)\n",
    "\n",
    "    def display(self):\n",
    "        \"\"\"\n",
    "        This method prints the data typed by user.\n",
    "        \"\"\"\n",
    "        print(\"######################\")\n",
    "        print(\"Your AccountNumber is:\",self.accountNumber,\"\\nYour name is:\",self.name,\"\\nYour current balance is:\",self.balance)\n",
    "        print(\"######################\")"
   ]
  },
  {
   "cell_type": "code",
   "execution_count": 4,
   "metadata": {},
   "outputs": [],
   "source": [
    "accountA = BankAccount(12345,\"Pedro\",200)"
   ]
  },
  {
   "cell_type": "code",
   "execution_count": 5,
   "metadata": {},
   "outputs": [
    {
     "name": "stdout",
     "output_type": "stream",
     "text": [
      "Your current balance is: 300.5\n"
     ]
    }
   ],
   "source": [
    "accountA.deposit(100.50)"
   ]
  },
  {
   "cell_type": "code",
   "execution_count": 6,
   "metadata": {},
   "outputs": [
    {
     "name": "stdout",
     "output_type": "stream",
     "text": [
      "Your current balance is: 250.5\n"
     ]
    }
   ],
   "source": [
    "accountA.withdrawall(50)"
   ]
  },
  {
   "cell_type": "code",
   "execution_count": 7,
   "metadata": {},
   "outputs": [
    {
     "name": "stdout",
     "output_type": "stream",
     "text": [
      "Your current balance is: 237.975\n"
     ]
    }
   ],
   "source": [
    "accountA.bankfees()"
   ]
  },
  {
   "cell_type": "code",
   "execution_count": 8,
   "metadata": {},
   "outputs": [
    {
     "name": "stdout",
     "output_type": "stream",
     "text": [
      "######################\n",
      "Your AccountNumber is: 12345 \n",
      "Your name is: Pedro \n",
      "Your current balance is: 237.975\n",
      "######################\n"
     ]
    }
   ],
   "source": [
    "accountA.display()"
   ]
  },
  {
   "cell_type": "markdown",
   "metadata": {},
   "source": [
    "## Circle Class"
   ]
  },
  {
   "cell_type": "code",
   "execution_count": 9,
   "metadata": {},
   "outputs": [],
   "source": [
    "import math"
   ]
  },
  {
   "cell_type": "code",
   "execution_count": 10,
   "metadata": {},
   "outputs": [],
   "source": [
    "class circle:\n",
    "    \"\"\"\n",
    "    This is a class which represents the basic data to computes the area and perimeter of any circle.\n",
    "    \"\"\"\n",
    "    \n",
    "    def __init__(self, h, k, r):\n",
    "        \"\"\"\n",
    "        This method builts a new class.\n",
    "        \n",
    "        :param x: x-axis\n",
    "        :type x: int / float\n",
    "        :param y: y-axis\n",
    "        :type y: int / float\n",
    "        :param r: radius\n",
    "        :type r: int / float\n",
    "        \"\"\"\n",
    "        \n",
    "        if type(h) == str:\n",
    "            raise TypeError(\"Radius Value Error: Type incompatible\")\n",
    "        else:\n",
    "            self.h = h\n",
    "        if type(k) == str:\n",
    "            raise TypeError(\"Radius Value Error: Type incompatible\")\n",
    "        else:\n",
    "            self.k = k \n",
    "        if type(r) == str:\n",
    "            raise TypeError(\"Radius Value Error: Type incompatible\")\n",
    "        else:\n",
    "            self.r = r\n",
    "\n",
    "    def Area(self):\n",
    "        \"\"\"\n",
    "        This method calculates the area of any circle.\n",
    "        \"\"\"\n",
    "        print(\"The area is:\", self.r **2,\"π\")\n",
    "        \n",
    "    def Perimeter(self):\n",
    "        \"\"\"\n",
    "        his method calculates the perimeter of any circle\n",
    "        \"\"\"\n",
    "        print(\"The Perimeter is:\", 2 * self.r,\"π\")\n",
    "        \n",
    "    def testBelongs(self, a, b):\n",
    "        \"\"\"\n",
    "        This method calculates if a certain point (coornidates) are in or out or circurferences of first circle.\n",
    "        \n",
    "        :param a: x-axis\n",
    "        :type a: int / float\n",
    "        :param b: y-axis\n",
    "        :type b: int / float\n",
    "        \"\"\"\n",
    "        if type(a) != str and type(b) != str:\n",
    "            r2 = math.sqrt((a-self.h)**2 + (b-self.k)**2)\n",
    "            if(r2 <= self.r):\n",
    "                print(\"Your are in.\")\n",
    "            else:\n",
    "                print(\"Your are out.\")\n",
    "        else:\n",
    "            raise TypeError(\"Type Value Error: Type incompatible\")"
   ]
  },
  {
   "cell_type": "code",
   "execution_count": 11,
   "metadata": {},
   "outputs": [],
   "source": [
    "circleA = circle(2,1,3)"
   ]
  },
  {
   "cell_type": "code",
   "execution_count": 12,
   "metadata": {},
   "outputs": [
    {
     "name": "stdout",
     "output_type": "stream",
     "text": [
      "The area is: 9 π\n"
     ]
    }
   ],
   "source": [
    "circleA.Area()"
   ]
  },
  {
   "cell_type": "code",
   "execution_count": 13,
   "metadata": {},
   "outputs": [
    {
     "name": "stdout",
     "output_type": "stream",
     "text": [
      "The Perimeter is: 6 π\n"
     ]
    }
   ],
   "source": [
    "circleA.Perimeter()"
   ]
  },
  {
   "cell_type": "code",
   "execution_count": 14,
   "metadata": {},
   "outputs": [
    {
     "name": "stdout",
     "output_type": "stream",
     "text": [
      "Your are out.\n"
     ]
    }
   ],
   "source": [
    "circleA.testBelongs(3,5)"
   ]
  },
  {
   "cell_type": "code",
   "execution_count": null,
   "metadata": {},
   "outputs": [],
   "source": []
  }
 ],
 "metadata": {
  "kernelspec": {
   "display_name": "Python 3",
   "language": "python",
   "name": "python3"
  },
  "language_info": {
   "codemirror_mode": {
    "name": "ipython",
    "version": 3
   },
   "file_extension": ".py",
   "mimetype": "text/x-python",
   "name": "python",
   "nbconvert_exporter": "python",
   "pygments_lexer": "ipython3",
   "version": "3.8.3"
  }
 },
 "nbformat": 4,
 "nbformat_minor": 4
}
