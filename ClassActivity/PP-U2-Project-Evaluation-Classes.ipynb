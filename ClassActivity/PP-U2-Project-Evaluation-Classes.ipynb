{
 "cells": [
  {
   "cell_type": "markdown",
   "metadata": {},
   "source": [
    "# <center> Universidad Politécnica de Yucatán </center>\n",
    "![logoupy](https://static.wixstatic.com/media/e16f80_45021b575f1c40cf9102e482464cb4ea~mv2_d_3000_2100_s_2.png/v1/fill/w_560,h_394,al_c,q_85,usm_0.66_1.00_0.01/e16f80_45021b575f1c40cf9102e482464cb4ea~mv2_d_3000_2100_s_2.webp)\n",
    "## <center>Programming Paradigms </center>\n",
    "## <center>Unit 2<br>  Evaluation </center>\n",
    "### <center>Group: Data 3-A <br>Professor: Romeo De Coss Martinez</center>\n",
    "### <center>Student: <br>Uicab Diaz Pedro Alejandro</center>\n",
    "---"
   ]
  },
  {
   "cell_type": "markdown",
   "metadata": {},
   "source": [
    "### Instrucctions\n",
    "\n",
    "**Attributes:**\n",
    "\n",
    "1. coef_: stores the coefficients obtained from the regression.\n",
    "\n",
    "\n",
    "2. intercept_: stores the intercept of the obtained regression.\n",
    "\n",
    "\n",
    "3. fit_intercept: stores whether or not the linear regression is forced to pass (0,0).\n",
    "\n",
    "\n",
    "3. fitted_data: stores the data used for the fitting.\n",
    "\n",
    "\n",
    "4. predicted_data: stores the data obtained from the prediction.\n",
    "\n",
    "\n",
    "**Methods:**\n",
    "\n",
    "1. fit: recieves two arguments (x and y) and fit the linear model to this data. Remember to store the input data.\n",
    "\n",
    "\n",
    "2. predict: recieves one argument (x) and returns a prediction for each element based on the coefficients obtained in the fitting. Remember to store the obtained prediction.\n",
    "\n",
    "\n",
    "3. plot_fitted: generates a scatter plot of the predicted values vs the real values of the fitting data. Recieves a boolean argument to choose wether to plot the reference line (y=x) or not.\n",
    "\n",
    "\n",
    "4. plot_residuals: generates a scatter plot of the residuals (difference between the real value and the prediction) of the fitting data vs the predicted values.\n",
    "\n",
    "\n",
    "5. r2_score: returns the R^2 metric for the fitted data.\n",
    "\n",
    "\n",
    "6. rmse_score: returns the RMSE (Root Mean Squared Error) metric for the fitted data.\n",
    "\n",
    "\n",
    "7. mae_score: returns the MAE (Mean Absolute Error) metric for the fitted data\n",
    "\n",
    "---"
   ]
  },
  {
   "cell_type": "code",
   "execution_count": 1,
   "metadata": {},
   "outputs": [],
   "source": [
    "# Imprt packages\n",
    "\n",
    "import numpy as np\n",
    "import pandas as pd\n",
    "import matplotlib.pyplot as plt\n",
    "%matplotlib inline "
   ]
  },
  {
   "cell_type": "code",
   "execution_count": 2,
   "metadata": {},
   "outputs": [],
   "source": [
    "class SimpleLinearRegresion():\n",
    "    \"\"\"\n",
    "    This is a class which represent a simple linear regresion, it allows parameters such as\n",
    "    \n",
    "    Coef : stores the coefficients obtained from the regression.\n",
    "    Intercept : stores the intercept of the obtained regression.\n",
    "    Fit intercept: stores whether or not the linear regression is forced to pass (0,0).\n",
    "    Fitted data: stores the data used for the fitting.\n",
    "    Predicted data: stores the data obtained from the prediction.\n",
    "    \"\"\"\n",
    "    def __init__(self, fit_intercept):\n",
    "        \"\"\"\n",
    "        This methotd builts a new LinearRegresion class. Parameters:\n",
    "        \n",
    "        :param fit_intercept: one argument (True/False) to know whether linear \n",
    "         regression pass over (0,0) coordinate.\n",
    "        :type fit_intercept: bool\n",
    "        \"\"\"\n",
    "        self.Fit_inter = fit_intercept\n",
    "        \n",
    "        if type(self.Fit_inter) != bool:\n",
    "            raise TypeError(\"Set Value Error: Type incompatible\")\n",
    "        \n",
    "    def setFit(self, x, y,):\n",
    "        \"\"\"\n",
    "        This method fits the linear regresion model. Parameters:\n",
    "        \n",
    "        :param x: x-axis values\n",
    "        :typ x: numpy array\n",
    "        :param y: y-axis values\n",
    "        :type: numpy arra\n",
    "        \"\"\"\n",
    "        \n",
    "        self.X = x\n",
    "        self.Y = y\n",
    "        \n",
    "        if self.X.size != self.Y.size:\n",
    "             raise ValueError(\"Size array are not the same.\")\n",
    "        else:\n",
    "            # Save the numpy array to fit data\n",
    "            self.fitted_data = np.array([self.X,self.Y])\n",
    "            \n",
    "            # Computing Coeficients // Formula y = mx + b, where (m) is the slope and (b) is the intersection\n",
    "            \n",
    "            # Compute the sum of multiplication of each data \n",
    "            xy = sum(self.X * self.Y)\n",
    "            # Compute the sum of each value to saquare\n",
    "            x2 = sum(self.X **2)\n",
    "            \n",
    "            # Computing the coeficient (m) or slope\n",
    "            self.Coef = ((self.X.size*xy.sum())-(self.X.sum()*self.Y.sum()))/((self.X.size*x2.sum())-((self.X.sum())**2))\n",
    "            #Computing the intercept (b)\n",
    "            self.Intercept = (self.Y.mean() - (self.Coef * self.X.mean()))\n",
    "              \n",
    "    def setPredict(self):\n",
    "        \"\"\"\n",
    "        This method returns a prediction for a certain element based on the coefficients \n",
    "        obtained in the fitting. Parameters:\n",
    "        \n",
    "        Does not recieve parameters.\n",
    "        \"\"\"\n",
    "        \n",
    "        # Creating a new array to save the predicted data / NONE values\n",
    "        self.Predicted = np.array([None] * self.Y.size)\n",
    "            \n",
    "        # If it is true we obligue to pass (0,0) point\n",
    "        # If it is false we use the coef values to perform linear regresion model\n",
    "        if(self.Fit_inter == True):\n",
    "            for i in range(0,self.Y.size):\n",
    "                self.Predicted[i] = self.Intercept + self.Coef*self.X[i]       \n",
    "        else:\n",
    "            for i in range(self.Y.size):\n",
    "                self.Predicted[i] = 0 + self.Coef*self.X[i]\n",
    "        \n",
    "        print(\"Predicted Data:\\n\\n{}\".format(self.Predicted))\n",
    "    \n",
    "    def setPlotFitted(self, reference_line):\n",
    "        \"\"\"\n",
    "        This method generates a scatter plot of the predicted values vs the real values\n",
    "        of the fitting data. Parameters:\n",
    "        \n",
    "        :param reference_line: one argument (True/False) to choose wether to plot \n",
    "         the reference line (y=x) or not.\n",
    "        :type reference_line: bool\n",
    "        \"\"\"\n",
    "        \n",
    "        self.Rline = reference_line\n",
    "        \n",
    "        if type(self.Rline) != bool:\n",
    "             raise TypeError(\"Set Value Error: Type incompatible\")\n",
    "        else:\n",
    "            \n",
    "            if self.Rline == True:\n",
    "                \n",
    "                # Create the plot with the reference line\n",
    "                plt.scatter(self.Predicted,self.Y, color='purple', label='Data')\n",
    "                plt.title(\"Predicted values vs The real values\")\n",
    "                plt.xlabel(\"Predicted value\")\n",
    "                plt.ylabel(\"Real values\")\n",
    "                plt.xlim(0,self.Predicted.max()+1)\n",
    "                plt.ylim(0,self.Y.max()+1)\n",
    "                plt.plot([self.Predicted.min(), self.Predicted.max()],[self.Y.min(),self.Y.max()], color= \"Aqua\", label = 'Fit')\n",
    "                plt.tight_layout()\n",
    "                plt.grid()\n",
    "                plt.legend()\n",
    "                plt.show()\n",
    "            else:\n",
    "                \n",
    "                # Create the plot without reference line\n",
    "                plt.scatter(self.Predicted,self.Y, color='purple', label='Data')\n",
    "                plt.title(\"Predicted values vs The real values\")\n",
    "                plt.xlabel(\"Predicted value\")\n",
    "                plt.ylabel(\"Real values\")\n",
    "                plt.grid()\n",
    "                plt.legend()\n",
    "                plt.show()\n",
    "    \n",
    "    def setPlotResidual(self):\n",
    "        \"\"\"\n",
    "        This method generates a scatter plot of the residuals \n",
    "        /difference between the real value and the prediction/. Parameters:\n",
    "        \n",
    "        Does not recieve parameters.\n",
    "        \"\"\"\n",
    "        \n",
    "        # Computing the residuals (difference between the real value and the prediction).\n",
    "        self.Residuals = self.Y - self.Predicted\n",
    "        print(\"Your values predicted are:\\n\",self.Residuals)\n",
    "        \n",
    "        # Plot\n",
    "        plt.scatter(self.Predicted, self.Residuals, color='purple', label='Data')\n",
    "        plt.title(\"Real value and The prediction\")\n",
    "        plt.xlabel(\"Predicted value\")\n",
    "        plt.ylabel(\"Residual\")\n",
    "        plt.hlines(0,self.Predicted.min(), self.Predicted.max(), color = \"Orange\", label ='Residual')\n",
    "        plt.tight_layout()\n",
    "        plt.grid()\n",
    "        plt.legend()\n",
    "        plt.show()\n",
    "        \n",
    "    \n",
    "    def setR2score(self):\n",
    "        \"\"\"\n",
    "        This method returns the R^2 metric for the fitted data. Parameters:\n",
    "        \n",
    "        Does not recieve parameters.\n",
    "        \"\"\"\n",
    "        # Determination Coefficient \n",
    "        r2 = 1 - (sum(self.Residuals**2) / sum((self.Y - self.Y.mean())**2))\n",
    "        \n",
    "        return r2\n",
    "    \n",
    "    def setRMSE(self):\n",
    "        \"\"\"\n",
    "        This method returns the RMSE (Root Mean Squared Error) metric for \n",
    "        the fitted data. Parameters:\n",
    "        \n",
    "        Does not recieve parameters.\n",
    "        \"\"\"\n",
    "        # Root mean squared error\n",
    "        rmse = np.sqrt((1/self.Y.size)*(sum(self.Residuals**2)))\n",
    "        \n",
    "        return rmse\n",
    "    \n",
    "    def setMAE(self):\n",
    "        \"\"\"\n",
    "        This method returns the MAE (Mean Absolute Error) metric for the \n",
    "        fitted data. Parameters:\n",
    "        \n",
    "        Does not recieve parameters.\n",
    "        \"\"\"\n",
    "        # Median Absolute Error\n",
    "        mae = (1/self.Y.size) * (sum(abs(self.Residuals)))\n",
    "        \n",
    "        return mae\n",
    "    "
   ]
  },
  {
   "cell_type": "code",
   "execution_count": 3,
   "metadata": {},
   "outputs": [],
   "source": [
    "x = np.array([1,2,3,4,5,6,7,8,9,10,11,12,13,14,15])\n",
    "y = np.array([1,2,2,4,5,4,6,4,6,7,9,10,11,12,10])\n",
    "\n",
    "model = SimpleLinearRegresion(True)\n",
    "\n",
    "model.setFit(x,y)"
   ]
  },
  {
   "cell_type": "code",
   "execution_count": 4,
   "metadata": {},
   "outputs": [
    {
     "name": "stdout",
     "output_type": "stream",
     "text": [
      "Predicted Data:\n",
      "\n",
      "[0.9500000000000002 1.7000000000000002 2.45 3.2 3.95 4.7 5.45 6.2 6.95 7.7\n",
      " 8.45 9.2 9.95 10.7 11.45]\n"
     ]
    }
   ],
   "source": [
    "model.setPredict()"
   ]
  },
  {
   "cell_type": "code",
   "execution_count": 5,
   "metadata": {},
   "outputs": [
    {
     "data": {
      "image/png": "[encoded data removed]",
      "text/plain": [
       "<Figure size 432x288 with 1 Axes>"
      ]
     },
     "metadata": {
      "needs_background": "light"
     },
     "output_type": "display_data"
    },
    {
     "data": {
      "image/png": "[encoded data removed]",
      "text/plain": [
       "<Figure size 432x288 with 1 Axes>"
      ]
     },
     "metadata": {
      "needs_background": "light"
     },
     "output_type": "display_data"
    }
   ],
   "source": [
    "model.setPlotFitted(True)\n",
    "model.setPlotFitted(False)"
   ]
  },
  {
   "cell_type": "code",
   "execution_count": 6,
   "metadata": {},
   "outputs": [
    {
     "name": "stdout",
     "output_type": "stream",
     "text": [
      "Your values predicted are:\n",
      " [0.04999999999999982 0.2999999999999998 -0.4500000000000002\n",
      " 0.7999999999999998 1.0499999999999998 -0.7000000000000002\n",
      " 0.5499999999999998 -2.2 -0.9500000000000002 -0.7000000000000002\n",
      " 0.5500000000000007 0.8000000000000007 1.0500000000000007\n",
      " 1.3000000000000007 -1.4499999999999993]\n"
     ]
    },
    {
     "data": {
      "image/png": "[encoded data removed]",
      "text/plain": [
       "<Figure size 432x288 with 1 Axes>"
      ]
     },
     "metadata": {
      "needs_background": "light"
     },
     "output_type": "display_data"
    }
   ],
   "source": [
    "model.setPlotResidual()"
   ]
  },
  {
   "cell_type": "code",
   "execution_count": 7,
   "metadata": {},
   "outputs": [
    {
     "data": {
      "text/plain": [
       "0.9135730858468678"
      ]
     },
     "execution_count": 7,
     "metadata": {},
     "output_type": "execute_result"
    }
   ],
   "source": [
    "model.setR2score()"
   ]
  },
  {
   "cell_type": "code",
   "execution_count": 8,
   "metadata": {},
   "outputs": [
    {
     "data": {
      "text/plain": [
       "0.9966610925150702"
      ]
     },
     "execution_count": 8,
     "metadata": {},
     "output_type": "execute_result"
    }
   ],
   "source": [
    "model.setRMSE()"
   ]
  },
  {
   "cell_type": "code",
   "execution_count": 9,
   "metadata": {},
   "outputs": [
    {
     "data": {
      "text/plain": [
       "0.8600000000000001"
      ]
     },
     "execution_count": 9,
     "metadata": {},
     "output_type": "execute_result"
    }
   ],
   "source": [
    "model.setMAE()"
   ]
  },
  {
   "cell_type": "code",
   "execution_count": null,
   "metadata": {},
   "outputs": [],
   "source": []
  }
 ],
 "metadata": {
  "kernelspec": {
   "display_name": "Python 3",
   "language": "python",
   "name": "python3"
  },
  "language_info": {
   "codemirror_mode": {
    "name": "ipython",
    "version": 3
   },
   "file_extension": ".py",
   "mimetype": "text/x-python",
   "name": "python",
   "nbconvert_exporter": "python",
   "pygments_lexer": "ipython3",
   "version": "3.8.3"
  }
 },
 "nbformat": 4,
 "nbformat_minor": 4
}
