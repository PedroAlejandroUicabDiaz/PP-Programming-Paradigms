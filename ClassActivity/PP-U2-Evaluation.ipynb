{
 "cells": [
  {
   "cell_type": "markdown",
   "metadata": {},
   "source": [
    "# <center> Universidad Politécnica de Yucatán </center>\n",
    "![logoupy](https://static.wixstatic.com/media/e16f80_45021b575f1c40cf9102e482464cb4ea~mv2_d_3000_2100_s_2.png/v1/fill/w_560,h_394,al_c,q_85,usm_0.66_1.00_0.01/e16f80_45021b575f1c40cf9102e482464cb4ea~mv2_d_3000_2100_s_2.webp)\n",
    "## <center>Programming Paradigms </center>\n",
    "## <center>Unit 2<br>  Evaluation </center>\n",
    "### <center>Group: Data 3-A <br>Professor: Romeo De Coss Martinez</center>\n",
    "### <center>Student: <br>Uicab Diaz Pedro Alejandro</center>\n",
    "---"
   ]
  },
  {
   "cell_type": "markdown",
   "metadata": {},
   "source": [
    "### Instrucctions\n",
    "\n",
    "**Attributes:**\n",
    "\n",
    "1. coef_: stores the coefficients obtained from the regression.\n",
    "\n",
    "\n",
    "2. intercept_: stores the intercept of the obtained regression.\n",
    "\n",
    "\n",
    "3. fit_intercept: stores whether or not the linear regression is forced to pass (0,0).\n",
    "\n",
    "\n",
    "3. fitted_data: stores the data used for the fitting.\n",
    "\n",
    "\n",
    "4. predicted_data: stores the data obtained from the prediction.\n",
    "\n",
    "\n",
    "**Methods:**\n",
    "\n",
    "1. fit: recieves two arguments (x and y) and fit the linear model to this data. Remember to store the input data.\n",
    "\n",
    "\n",
    "2. predict: recieves one argument (x) and returns a prediction for each element based on the coefficients obtained in the fitting. Remember to store the obtained prediction.\n",
    "\n",
    "\n",
    "3. plot_fitted: generates a scatter plot of the predicted values vs the real values of the fitting data. Recieves a boolean argument to choose wether to plot the reference line (y=x) or not.\n",
    "\n",
    "\n",
    "4. plot_residuals: generates a scatter plot of the residuals (difference between the real value and the prediction) of the fitting data vs the predicted values.\n",
    "\n",
    "\n",
    "5. r2_score: returns the R^2 metric for the fitted data.\n",
    "\n",
    "\n",
    "6. rmse_score: returns the RMSE (Root Mean Squared Error) metric for the fitted data.\n",
    "\n",
    "\n",
    "7. mae_score: returns the MAE (Mean Absolute Error) metric for the fitted data\n",
    "\n",
    "---"
   ]
  },
  {
   "cell_type": "code",
   "execution_count": 161,
   "metadata": {},
   "outputs": [],
   "source": [
    "# Imprt packages\n",
    "\n",
    "import numpy as np\n",
    "import pandas as pd\n",
    "import matplotlib.pyplot as plt\n",
    "%matplotlib inline \n"
   ]
  },
  {
   "cell_type": "code",
   "execution_count": 162,
   "metadata": {},
   "outputs": [],
   "source": [
    "# Lists \n",
    "\n",
    "# Axis-x values\n",
    "x = [1,2,2,3,4,4,5,6]\n",
    "\n",
    "# Axis-y values\n",
    "y = [2,3,4,4,4,6,5,7]\n"
   ]
  },
  {
   "cell_type": "code",
   "execution_count": 163,
   "metadata": {},
   "outputs": [],
   "source": [
    "# Convert list to arrays\n",
    "\n",
    "# Axis-x values\n",
    "x = np.array(x)\n",
    "\n",
    "# Axis-y values\n",
    "y = np.array(y)\n"
   ]
  },
  {
   "cell_type": "code",
   "execution_count": 164,
   "metadata": {},
   "outputs": [
    {
     "name": "stdout",
     "output_type": "stream",
     "text": [
      "<class 'numpy.ndarray'>\n",
      "<class 'numpy.ndarray'>\n",
      "\n",
      "\n",
      "[1 2 2 3 4 4 5 6]\n",
      "[2 3 4 4 4 6 5 7]\n",
      "\n",
      "\n",
      "8\n",
      "8\n"
     ]
    }
   ],
   "source": [
    "# Type \n",
    "\n",
    "print(type(x))\n",
    "print(type(y))\n",
    "\n",
    "print(\"\\n\")\n",
    "\n",
    "# Print it\n",
    "\n",
    "print(x)\n",
    "print(y)\n",
    "\n",
    "print(\"\\n\")\n",
    "\n",
    "# size\n",
    "print(len(x))\n",
    "print(len(y))"
   ]
  },
  {
   "cell_type": "code",
   "execution_count": 165,
   "metadata": {},
   "outputs": [
    {
     "name": "stdout",
     "output_type": "stream",
     "text": [
      "135\n",
      "111\n",
      "945\n",
      "729\n",
      "2.3333333333333335\n",
      "1.8\n"
     ]
    }
   ],
   "source": [
    "# individual result\n",
    "\n",
    "xy = sum(x * y)\n",
    "x2 = sum(x **2)\n",
    "\n",
    "print(xy)\n",
    "print(x2)\n",
    "print(x.sum() * y.sum())\n",
    "print(x.sum()**2)\n",
    "print(y.sum()/15)\n",
    "print(x.sum()/15)"
   ]
  },
  {
   "cell_type": "code",
   "execution_count": 166,
   "metadata": {},
   "outputs": [
    {
     "data": {
      "image/png": "[encoded data removed]",
      "text/plain": [
       "<Figure size 432x288 with 1 Axes>"
      ]
     },
     "metadata": {
      "needs_background": "light"
     },
     "output_type": "display_data"
    }
   ],
   "source": [
    "# Visualization scatter plot \n",
    "\n",
    "plt.scatter(x,y, color='Purple')\n",
    "plt.title('Scatter Plot');\n",
    "plt.xlabel(\"X\")\n",
    "plt.ylabel(\"Y\")\n",
    "plt.show()"
   ]
  },
  {
   "cell_type": "markdown",
   "metadata": {},
   "source": [
    "#### Method 1. Fit"
   ]
  },
  {
   "cell_type": "code",
   "execution_count": 167,
   "metadata": {},
   "outputs": [
    {
     "name": "stdout",
     "output_type": "stream",
     "text": [
      "Regresion Lineal Model:  \n",
      "y = 0.8490566037735849x + 1.5094339622641506\n",
      "\n"
     ]
    }
   ],
   "source": [
    "# Computing Coeficients // Formula y = mx + b, where (m) is the slope and (b) is the intersection \n",
    "\n",
    "xy = sum(x * y)\n",
    "x2 = sum(x **2)\n",
    "\n",
    "m = ((x.size*xy.sum())-(x.sum()*y.sum()))/((x.size*x2.sum())-((x.sum())**2))\n",
    "\n",
    "b = (y.mean() - (m * x.mean()))\n",
    "\n",
    "print(\"Regresion Lineal Model:  \\ny = {}x + {}\\n\".format(m,b))"
   ]
  },
  {
   "cell_type": "code",
   "execution_count": 168,
   "metadata": {},
   "outputs": [
    {
     "data": {
      "image/png": "[encoded data removed]",
      "text/plain": [
       "<Figure size 432x288 with 1 Axes>"
      ]
     },
     "metadata": {
      "needs_background": "light"
     },
     "output_type": "display_data"
    }
   ],
   "source": [
    "plt.scatter(x,y, color='Purple', label='Data')\n",
    "plt.plot(x, m*x + b, color = 'Aqua',label = 'Fit')\n",
    "plt.title(\"Linear Regression - Model\")\n",
    "plt.xlabel(\"X\")\n",
    "plt.ylabel(\"Y\")\n",
    "plt.grid()\n",
    "plt.legend()\n",
    "plt.show()\n"
   ]
  },
  {
   "cell_type": "markdown",
   "metadata": {},
   "source": [
    "#### Method 2. Predict"
   ]
  },
  {
   "cell_type": "code",
   "execution_count": 169,
   "metadata": {},
   "outputs": [
    {
     "name": "stdout",
     "output_type": "stream",
     "text": [
      "Enter you data to predict: 5\n",
      "Your value predicted is:  5.754716981132075\n"
     ]
    }
   ],
   "source": [
    "# Predicting one by one\n",
    "\n",
    "x_i = float(input(\"Enter you data to predict: \"))\n",
    "\n",
    "print(\"Your value predicted is: \",(m * x_i) + b)"
   ]
  },
  {
   "cell_type": "code",
   "execution_count": 170,
   "metadata": {},
   "outputs": [
    {
     "name": "stdout",
     "output_type": "stream",
     "text": [
      "Your values predicted are: [2.3584905660377355 3.2075471698113205 3.2075471698113205\n",
      " 4.056603773584905 4.90566037735849 4.90566037735849 5.754716981132075\n",
      " 6.60377358490566]\n"
     ]
    }
   ],
   "source": [
    "# Predicting a consecutives values\n",
    "\n",
    "v_predicted = np.array([None] * y.size)\n",
    "\n",
    "for i in range(v_predicted.size):\n",
    "    v_predicted[i] = b + m*x[i] \n",
    "    \n",
    "print(\"Your values predicted are:\",v_predicted)"
   ]
  },
  {
   "cell_type": "markdown",
   "metadata": {},
   "source": [
    "#### Method 3. Plot fitted"
   ]
  },
  {
   "cell_type": "code",
   "execution_count": 171,
   "metadata": {},
   "outputs": [
    {
     "data": {
      "image/png": "[encoded data removed]",
      "text/plain": [
       "<Figure size 432x288 with 1 Axes>"
      ]
     },
     "metadata": {
      "needs_background": "light"
     },
     "output_type": "display_data"
    }
   ],
   "source": [
    "# Plot\n",
    "\n",
    "plt.scatter(v_predicted,y, color='purple', label='Data')\n",
    "plt.title(\"Plot Fitted\")\n",
    "plt.xlabel(\"Values Predicted\")\n",
    "plt.ylabel(\"Y\")\n",
    "plt.xlim(0,v_predicted.max()+1)\n",
    "plt.ylim(0,y.max()+1)\n",
    "plt.plot([v_predicted.min(), v_predicted.max()],[y.min(),y.max()], color= \"Aqua\", label = 'Fit')\n",
    "plt.tight_layout()\n",
    "plt.grid()\n",
    "plt.legend()\n",
    "plt.show()\n"
   ]
  },
  {
   "cell_type": "markdown",
   "metadata": {},
   "source": [
    "#### Method 4. Plot Residuals"
   ]
  },
  {
   "cell_type": "code",
   "execution_count": 172,
   "metadata": {},
   "outputs": [
    {
     "name": "stdout",
     "output_type": "stream",
     "text": [
      "Your values predicted are: [-0.35849056603773555 -0.2075471698113205 0.7924528301886795\n",
      " -0.056603773584905426 -0.9056603773584904 1.0943396226415096\n",
      " -0.7547169811320753 0.39622641509433976]\n"
     ]
    }
   ],
   "source": [
    "#  Residual for consecutive values serie\n",
    "\n",
    "Residuals = np.array( [None] * y.size)\n",
    "\n",
    "for i in range(Residual.size):\n",
    "    Residuals[i] = y[i] - y_predicted[i] \n",
    "    \n",
    "print(\"Your values predicted are:\",Residuals)"
   ]
  },
  {
   "cell_type": "code",
   "execution_count": 173,
   "metadata": {},
   "outputs": [
    {
     "data": {
      "image/png": "[encoded data removed]",
      "text/plain": [
       "<Figure size 432x288 with 1 Axes>"
      ]
     },
     "metadata": {
      "needs_background": "light"
     },
     "output_type": "display_data"
    }
   ],
   "source": [
    "# Plot\n",
    "\n",
    "plt.scatter(v_predicted, Residuals, color='purple', label='Data')\n",
    "plt.title(\"Plot Residuals\")\n",
    "plt.xlabel(\"Values Predicted\")\n",
    "plt.ylabel(\"Residual\")\n",
    "plt.grid()\n",
    "plt.legend()\n",
    "plt.show()"
   ]
  },
  {
   "cell_type": "markdown",
   "metadata": {},
   "source": [
    "#### Method 5. R2 score"
   ]
  },
  {
   "cell_type": "code",
   "execution_count": 178,
   "metadata": {},
   "outputs": [
    {
     "data": {
      "text/plain": [
       "0.8015569336324053"
      ]
     },
     "execution_count": 178,
     "metadata": {},
     "output_type": "execute_result"
    }
   ],
   "source": [
    "# Determination Coefficient \n",
    "\n",
    "r2 = 1 - (sum(Residuals**2) / sum((y - y.mean())**2))\n",
    "r2"
   ]
  },
  {
   "cell_type": "markdown",
   "metadata": {},
   "source": [
    "#### Method 6. RMSE score"
   ]
  },
  {
   "cell_type": "code",
   "execution_count": 181,
   "metadata": {},
   "outputs": [
    {
     "data": {
      "text/plain": [
       "0.6658800390574073"
      ]
     },
     "execution_count": 181,
     "metadata": {},
     "output_type": "execute_result"
    }
   ],
   "source": [
    "# Root mean squared error\n",
    "\n",
    "rmse = np.sqrt((1/y.size)*(sum(Residuals**2)))\n",
    "rmse"
   ]
  },
  {
   "cell_type": "markdown",
   "metadata": {},
   "source": [
    "#### Method 7. MAE score"
   ]
  },
  {
   "cell_type": "code",
   "execution_count": 187,
   "metadata": {},
   "outputs": [
    {
     "data": {
      "text/plain": [
       "0.570754716981132"
      ]
     },
     "execution_count": 187,
     "metadata": {},
     "output_type": "execute_result"
    }
   ],
   "source": [
    "# Median Absolute Error\n",
    "\n",
    "mae = (1/y.size) * (sum(abs(Residuals)))\n",
    "mae"
   ]
  },
  {
   "cell_type": "code",
   "execution_count": 188,
   "metadata": {},
   "outputs": [],
   "source": [
    "class SimpleLinearRegresion():\n",
    "    \"\"\"\n",
    "    This is a class which represent a linear regresion simple, it allows parameters such as\n",
    "    \n",
    "    coef_: stores the coefficients obtained from the regression.\n",
    "    intercept_: stores the intercept of the obtained regression.\n",
    "    fit_intercept: stores whether or not the linear regression is forced to pass (0,0).\n",
    "    fitted_data: stores the data used for the fitting.\n",
    "    predicted_data: stores the data obtained from the prediction.\n",
    "    \n",
    "    With the purpose to draw a model to predict data.\n",
    "    \"\"\"\n",
    "    def __init__(self, coef, intercept, fit_intercep, fitted_data, predicted_data):\n",
    "        \"\"\"\n",
    "        This methotd builts a new LinearRegresion class.\n",
    "         \n",
    "        :param : \n",
    "        :type :\n",
    "        :param : \n",
    "        :type :\n",
    "        :param : \n",
    "        :type :\n",
    "        :param : \n",
    "        :type :\n",
    "        :param : \n",
    "        :type :\n",
    "        \n",
    "        \"\"\"\n",
    "        self.Coef = coef\n",
    "        self.Intercept = intercept\n",
    "        self.Fit = fit_intercep\n",
    "        self.FitData = fitted_data\n",
    "        self.Predicted = predicted_data\n",
    "        \n",
    "    def setFit(self):\n",
    "        pass\n",
    "    \n",
    "    \n",
    "    def setPredict(self):\n",
    "        pass\n",
    "    \n",
    "    \n",
    "    def setPlotFitted(self):\n",
    "        pass\n",
    "    \n",
    "    def setPlotResidual(self):\n",
    "        pass\n",
    "    \n",
    "    def setR2score(self):\n",
    "        pass\n",
    "    \n",
    "    def setRMSE(self):\n",
    "        pass\n",
    "    \n",
    "    def setMAE(self):\n",
    "        pass\n",
    "    "
   ]
  },
  {
   "cell_type": "code",
   "execution_count": null,
   "metadata": {},
   "outputs": [],
   "source": []
  }
 ],
 "metadata": {
  "kernelspec": {
   "display_name": "Python 3",
   "language": "python",
   "name": "python3"
  },
  "language_info": {
   "codemirror_mode": {
    "name": "ipython",
    "version": 3
   },
   "file_extension": ".py",
   "mimetype": "text/x-python",
   "name": "python",
   "nbconvert_exporter": "python",
   "pygments_lexer": "ipython3",
   "version": "3.8.3"
  }
 },
 "nbformat": 4,
 "nbformat_minor": 4
}
