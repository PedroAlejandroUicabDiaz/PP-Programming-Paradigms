{
 "cells": [
  {
   "cell_type": "markdown",
   "metadata": {},
   "source": [
    "# Programming Paradigms \n",
    "\n",
    "## UNIT 2 .- OBJECT-ORIENTED PROGRAMMING\n",
    "\n",
    "###  CLASSES - INHERITANCE \n",
    "\n",
    "#### Professor: Romeo de Coss Martinez                      \n",
    "\n",
    "#### Student: Pedro Alejandro Uicab Diaz             \n",
    "#### Group: Data 3-A\n",
    "\n",
    "---"
   ]
  },
  {
   "cell_type": "markdown",
   "metadata": {},
   "source": [
    "#### 1.- SHOES CLASS"
   ]
  },
  {
   "cell_type": "code",
   "execution_count": 1,
   "metadata": {},
   "outputs": [],
   "source": [
    "class Shoes:\n",
    "    \n",
    "    \"\"\"\n",
    "    This is a class which represent a object called shoes with its \n",
    "    respective properties such as, color and brands. \n",
    "    \"\"\"\n",
    "    \n",
    "    def __init__(self, color, brand):\n",
    "        \"\"\"\n",
    "        This methotd builds a new shoes class.\n",
    "        \n",
    "        :param color: shoe color\n",
    "        :type color: string\n",
    "        :param brand: shoe brand\n",
    "        :type brand: string\n",
    "        \"\"\"\n",
    "        self.Color = color\n",
    "        self.Brand = brand\n",
    "        \n",
    "    def setColor(self):\n",
    "        \"\"\"\n",
    "        This function just verify if the entrie is the \n",
    "        value correct and then show it.\n",
    "        \"\"\"\n",
    "        if type(self.Color) != str:\n",
    "            raise TypeError(\"Set Value Error: Type incompatible\")\n",
    "        else:\n",
    "            print(self.Color)\n",
    "            \n",
    "    \n",
    "    def setBrand(self):\n",
    "        \"\"\"\n",
    "        This function just verify if the entrie is the \n",
    "        value correct and then show it.\n",
    "        \"\"\"\n",
    "        if type(self.Brand) != str:\n",
    "            raise TypeError(\"Set Value Error: Type incompatible\")\n",
    "        else:\n",
    "            print(self.Brand)"
   ]
  },
  {
   "cell_type": "code",
   "execution_count": 2,
   "metadata": {},
   "outputs": [],
   "source": [
    "class Converse(Shoes):\n",
    "    \"\"\"\n",
    "    This is a child class from Shoes class; It contains two different \n",
    "    attributes such as, \"Low or Hight Top\" and \"Togue color\". \n",
    "    \"\"\"\n",
    "    \n",
    "    def __init__(self, color, brand, Lht, togue):\n",
    "        super().__init__(color, brand)\n",
    "        \"\"\"\n",
    "        This methotd builds a new shoes inheritance.\n",
    "        \n",
    "        :param Lht: Low or High top\n",
    "        :type Lht: bool\n",
    "        :param Togue: Togue color\n",
    "        :type Togue: string\n",
    "        \"\"\"\n",
    "        self.Lht = Lht\n",
    "        self.Togue = togue\n",
    "    \n",
    "    def setLht(self):\n",
    "        \"\"\"\n",
    "        This function just verify if the entrie is the \n",
    "        value correct and then show it.\n",
    "        \"\"\"\n",
    "        if type(self.Lht) != bool:\n",
    "            raise TypeError(\"Set Value Error: Type incompatible\")\n",
    "        else:\n",
    "            print(self.Lht)\n",
    "            \n",
    "    def setTogue(self):\n",
    "        \"\"\"\n",
    "        This function just verify if the entrie is the \n",
    "        value correct and then show it.\n",
    "        \"\"\"\n",
    "        if type(self.Togue) != str:\n",
    "            raise TypeError(\"Set Value Error: Type incompatible\")\n",
    "        else:\n",
    "            print(self.Togue)\n",
    "            \n",
    "    def setDisplay(self):\n",
    "        \"\"\"\n",
    "        This function just verify if the entrie is the \n",
    "        value correct and then show a message.\n",
    "        \"\"\"\n",
    "        if type(self.Brand) != str or type(self.Color) != str or type(self.Togue) != str or type(self.Lht) != bool:\n",
    "            raise TypeError(\"Set Value Error: Type incompatible\")\n",
    "        else:\n",
    "            print(\"\\t##################\")\n",
    "            print(\"\\tYour Online Store [1]\")\n",
    "            print(\"\\t##################\\n\")\n",
    "            print(\"Brand: {}\\nColor: {}\\nTogue color: {}\\nHigh top: {}\\n\".format(self.Brand,self.Color,self.Togue,self.Lht))"
   ]
  },
  {
   "cell_type": "code",
   "execution_count": 3,
   "metadata": {},
   "outputs": [
    {
     "name": "stdout",
     "output_type": "stream",
     "text": [
      "\t##################\n",
      "\tYour Online Store [1]\n",
      "\t##################\n",
      "\n",
      "Brand: Converse\n",
      "Color: Negro\n",
      "Togue color: Blue\n",
      "High top: False\n",
      "\n"
     ]
    }
   ],
   "source": [
    "Fshoes = Converse(\"Negro\",\"Converse\",False,\"Blue\")\n",
    "\n",
    "Fshoes.setDisplay()"
   ]
  },
  {
   "cell_type": "code",
   "execution_count": 4,
   "metadata": {},
   "outputs": [],
   "source": [
    "class CombatBoot(Shoes):\n",
    "    \"\"\"\n",
    "    This is a child class from Shoes class; It contains two different \n",
    "    attributes such as, \"Military brands\" and \"Deser or Jungle model\". \n",
    "    \"\"\"\n",
    "    def __init__(self, color, brand, mb, doj):\n",
    "        super().__init__(color, brand)\n",
    "        \"\"\"\n",
    "        This methotd builds a new shoes inheritance.\n",
    "        \n",
    "        :param mb: Military brand\n",
    "        :type doj: str\n",
    "        :param doj: Desert or Jungle\n",
    "        :type doj: bool\n",
    "        \"\"\"\n",
    "        self.Mb = mb\n",
    "        self.Doj = doj\n",
    "        \n",
    "    def setMilibrand(self):\n",
    "        \"\"\"\n",
    "        This function just verify if the entrie is the \n",
    "        value correct and then show it.\n",
    "        \"\"\"\n",
    "        if type(self.Mb) != str:\n",
    "            raise TypeError(\"Set Value Error: Type incompatible\")\n",
    "        else:\n",
    "            print(self.Mb)\n",
    "            \n",
    "    def setDesert(self):\n",
    "        \"\"\"\n",
    "        This function just verify if the entrie is the \n",
    "        value correct and then show it.\n",
    "        \"\"\"\n",
    "        if type(self.Doj) != bool:\n",
    "            raise TypeError(\"Set Value Error: Type incompatible\")\n",
    "        else:\n",
    "            print(self.Doj)\n",
    "            \n",
    "    def setDisplay(self):\n",
    "        \"\"\"\n",
    "        This function just verify if the entrie is the \n",
    "        value correct and then show a message.\n",
    "        \"\"\"\n",
    "        if type(self.Brand) != str or type(self.Color) != str or type(self.Mb) != str or type(self.Doj) != bool:\n",
    "            raise TypeError(\"Set Value Error: Type incompatible\")\n",
    "        else:\n",
    "            print(\"\\t##################\")\n",
    "            print(\"\\tYour Online Store [2]\")\n",
    "            print(\"\\t##################\\n\")\n",
    "            print(\"Brand: {}\\nMilitary Brand: {}\\nColor: {}\\nDesert Model: {}\\n\".format(self.Brand,self.Mb,self.Color,self.Doj))\n",
    "    "
   ]
  },
  {
   "cell_type": "code",
   "execution_count": 5,
   "metadata": {},
   "outputs": [
    {
     "name": "stdout",
     "output_type": "stream",
     "text": [
      "\t##################\n",
      "\tYour Online Store [2]\n",
      "\t##################\n",
      "\n",
      "Brand: StrongBoot\n",
      "Military Brand: Rambo\n",
      "Color: Black\n",
      "Desert Model: True\n",
      "\n"
     ]
    }
   ],
   "source": [
    "Sshoes = CombatBoot(\"Black\",\"StrongBoot\",\"Rambo\",True)\n",
    "\n",
    "Sshoes.setDisplay()"
   ]
  },
  {
   "cell_type": "code",
   "execution_count": 6,
   "metadata": {},
   "outputs": [],
   "source": [
    "class Sandals(Shoes):\n",
    "    \"\"\"\n",
    "    This is a child class from Shoes class; It contains two different \n",
    "    attributes such as, \"Open or Closed\" and \"Waterproof\". \n",
    "    \"\"\"\n",
    "    def __init__(self, color, brand, ooc, wp):\n",
    "        super().__init__(color, brand)\n",
    "        \"\"\"\n",
    "        This methotd builds a new shoes inheritance.\n",
    "        \n",
    "        :param ooc: Open or Closed model\n",
    "        :type occ: bool\n",
    "        :param wp: Waterproof\n",
    "        :type wp: bool\n",
    "        \"\"\"\n",
    "        self.Ooc = ooc\n",
    "        self.Wp = wp\n",
    "        \n",
    "    def setOpen(self):\n",
    "        \"\"\"\n",
    "        This function just verify if the entrie is the \n",
    "        value correct and then show it.\n",
    "        \"\"\"\n",
    "        if type(self.Ooc) != bool:\n",
    "            raise TypeError(\"Set Value Error: Type incompatible\")\n",
    "        else:\n",
    "            print(self.Ooc)\n",
    "        \n",
    "    def setWaterproof(self):\n",
    "        \"\"\"\n",
    "        This function just verify if the entrie is the \n",
    "        value correct and then show it.\n",
    "        \"\"\"\n",
    "        if type(self.Wp) != bool:\n",
    "            raise TypeError(\"Set Value Error: Type incompatible\")\n",
    "        else:\n",
    "            print(self.Wp)\n",
    "            \n",
    "    def setDisplay(self):\n",
    "        \"\"\"\n",
    "        This function just verify if the entrie is the \n",
    "        value correct and then show a message.\n",
    "        \"\"\"\n",
    "        if type(self.Brand) != str or type(self.Color) != str or type(self.Ooc) != bool or type(self.Wp) != bool:\n",
    "            raise TypeError(\"Set Value Error: Type incompatible\")\n",
    "        else:\n",
    "            print(\"\\t##################\")\n",
    "            print(\"\\tYour Online Store [3]\")\n",
    "            print(\"\\t##################\\n\")\n",
    "            print(\"Brand: {}\\nColor: {}\\nOpen model: {}\\nWaterlproof Model: {}\\n\".format(self.Brand,self.Color,self.Ooc,self.Wp))\n",
    "        \n",
    "    "
   ]
  },
  {
   "cell_type": "code",
   "execution_count": 7,
   "metadata": {},
   "outputs": [
    {
     "name": "stdout",
     "output_type": "stream",
     "text": [
      "\t##################\n",
      "\tYour Online Store [3]\n",
      "\t##################\n",
      "\n",
      "Brand: Nike\n",
      "Color: Balck\n",
      "Open model: True\n",
      "Waterlproof Model: False\n",
      "\n"
     ]
    }
   ],
   "source": [
    "Tshoes = Sandals(\"Balck\",\"Nike\",True,False)\n",
    "\n",
    "Tshoes.setDisplay()"
   ]
  },
  {
   "cell_type": "markdown",
   "metadata": {},
   "source": [
    "----\n",
    "#### 2.- Bank Account Class\n"
   ]
  },
  {
   "cell_type": "code",
   "execution_count": 8,
   "metadata": {},
   "outputs": [],
   "source": [
    "class BankAccount():\n",
    "    \"\"\"\n",
    "    This is a classs which contains three differents attributes \n",
    "    and four methods / operations over certain Banck account\n",
    "    \n",
    "    ------------Atributes------------\n",
    "    Account Number\n",
    "    Pin\n",
    "    Account Balance\n",
    "    ------------Methods------------\n",
    "    Deposit\n",
    "    Withdraw\n",
    "    Get withdraw\n",
    "    Change the Pin\n",
    "    -------------------------------\n",
    "    \"\"\"\n",
    "    def __init__(self, AccountNumber, pin, balance):\n",
    "        \"\"\"\n",
    "        This methotd builds a new Bank Account.\n",
    "        \n",
    "        :param AccountNumber: Account number\n",
    "        :type AccountNumber: int\n",
    "        :param pin: Pin\n",
    "        :type pin: int\n",
    "        :param balance: Account balance\n",
    "        :type balance: float\n",
    "        \"\"\"\n",
    "        self.Balance = balance\n",
    "        self.Anumb = AccountNumber\n",
    "        self.Pin = pin\n",
    "        if type(self.Balance) != float or type(self.Anumb) != int or type(self.Pin) != int:\n",
    "            raise TypeError(\"Set Value Error: Type incompatible\")\n",
    "    \n",
    "    def setDeposit(self, Cacc, Cpin, amount):\n",
    "        \"\"\"\n",
    "        This method perform a deposit operation and does not return something; it verify \n",
    "        if the account and pin are correct.\n",
    "        \n",
    "        :param Cacc: Account number confirmation\n",
    "        :type Cacc: int\n",
    "        :param Cpin: Pin confirmation\n",
    "        :type Cpin: int\n",
    "        :param amount: New amount to deposit\n",
    "        :type amount: float\n",
    "        \n",
    "        \"\"\"\n",
    "        if type(amount) == float:\n",
    "            if self.Pin == Cpin and self.Anumb == Cacc:\n",
    "                self.Balance = self.Balance + amount\n",
    "                print(\"Current Balance: {}\\n\".format(self.Balance))\n",
    "            else:\n",
    "                print(\"The pin or account typed does not match the registered before.\\n\")\n",
    "        else:\n",
    "            raise TypeError(\"Set Value Error: Type incompatible\")\n",
    "\n",
    "    def setWithdraw(self, Cacc, Cpin, amount):\n",
    "        \"\"\"\n",
    "        This method perform a withdraw operation and does not return something; it verify \n",
    "        if the account and pin are correct.\n",
    "        \n",
    "        :param Cacc: Account number confirmation\n",
    "        :type Cacc: int\n",
    "        :param Cpin: Pin confirmation\n",
    "        :type Cpin: int\n",
    "        :param amount: New amount to deposit\n",
    "        :type amount: float\n",
    "        \n",
    "        \"\"\"\n",
    "        if type(amount) == float:\n",
    "            if self.Pin == Cpin and self.Anumb == Cacc:\n",
    "                if self.Balance == 0.0 or self.Balance < amount:\n",
    "                    print(\"You don not have enough money to carry out this operation.\\n\")\n",
    "                    print(\"Account balance: {}\\n\".format(self.Balance))\n",
    "                    \n",
    "                else: \n",
    "                    self.Balance = self.Balance - amount\n",
    "                    print(\"Current Balance: {}\\n\".format(self.Balance))\n",
    "            else:\n",
    "                print(\"The pin or account typed does not match the registered before.\\n\")\n",
    "        else:\n",
    "            raise TypeError(\"Set Value Error: Type incompatible\")\n",
    "    \n",
    "    def setGetBalance(self, Cacc, Cpin):\n",
    "        \"\"\"\n",
    "        This method only prints the current balance; it verify \n",
    "        if the account and pin are correct.\n",
    "        \n",
    "        :param Cacc: Account number confirmation\n",
    "        :type Cacc: int\n",
    "        :param Cpin: Pin confirmation\n",
    "        :type Cpin: int\n",
    "        \"\"\"\n",
    "        if self.Pin == Cpin and self.Anumb == Cacc:\n",
    "            print(\"Account Balance: {}\\n\".format(self.Balance))\n",
    "        else:\n",
    "            print(\"The pin or account typed does not match the registered before.\\n\")\n",
    "    \n",
    "    def setChangePin(self, Cacc, Cpin, Newpin):\n",
    "        \"\"\"\n",
    "        This method only changes the Pin; it verify \n",
    "        if the account and pin are correct.\n",
    "        \n",
    "        :param Cacc: Account number confirmation\n",
    "        :type Cacc: int\n",
    "        :param Cpin: Pin confirmation\n",
    "        :type Cpin: int\n",
    "        :param Newpin: New Pin\n",
    "        :type Newpin: int\n",
    "        \"\"\"\n",
    "        if self.Pin == Cpin and self.Anumb == Cacc:\n",
    "            self.Pin = Newpin\n",
    "            print(\"Pin changed.\\n\")\n",
    "        else:\n",
    "            print(\"The pin or account typed does not match the registered before.\\n\")"
   ]
  },
  {
   "cell_type": "code",
   "execution_count": 9,
   "metadata": {},
   "outputs": [],
   "source": [
    "UserCon = BankAccount(190976,1111,100.0)\n"
   ]
  },
  {
   "cell_type": "code",
   "execution_count": 10,
   "metadata": {},
   "outputs": [
    {
     "name": "stdout",
     "output_type": "stream",
     "text": [
      "Current Balance: 300.5\n",
      "\n"
     ]
    }
   ],
   "source": [
    "UserCon.setDeposit(190976,1111,200.5)"
   ]
  },
  {
   "cell_type": "code",
   "execution_count": 11,
   "metadata": {},
   "outputs": [
    {
     "name": "stdout",
     "output_type": "stream",
     "text": [
      "Current Balance: 250.5\n",
      "\n"
     ]
    }
   ],
   "source": [
    "UserCon.setWithdraw(190976,1111,50.0)"
   ]
  },
  {
   "cell_type": "code",
   "execution_count": 12,
   "metadata": {},
   "outputs": [
    {
     "name": "stdout",
     "output_type": "stream",
     "text": [
      "Account Balance: 250.5\n",
      "\n"
     ]
    }
   ],
   "source": [
    "UserCon.setGetBalance(190976,1111)"
   ]
  },
  {
   "cell_type": "code",
   "execution_count": 13,
   "metadata": {},
   "outputs": [
    {
     "name": "stdout",
     "output_type": "stream",
     "text": [
      "Pin changed.\n",
      "\n"
     ]
    }
   ],
   "source": [
    "UserCon.setChangePin(190976,1111,2222)"
   ]
  },
  {
   "cell_type": "code",
   "execution_count": 16,
   "metadata": {},
   "outputs": [],
   "source": [
    "class SavingsAccount(BankAccount):\n",
    "    \"\"\"\n",
    "    This is a child classs from BankAccount which contains one additional attribute; It\n",
    "    carry out one method.\n",
    "    \n",
    "    ------------Atributes------------\n",
    "    Interest Rate\n",
    "    ------------Methods------------\n",
    "    Gain Interes\n",
    "    -------------------------------\n",
    "    \"\"\"\n",
    "    def __init__(self, AccountNumber, pin, balance, interestRate):\n",
    "        \"\"\"\n",
    "        This methotd builds a new Bank Account inheritance.\n",
    "        \n",
    "        :param AccountNumber: Account number\n",
    "        :type AccountNumber: int\n",
    "        :param pin: Pin\n",
    "        :type pin: int\n",
    "        :param balance: Account balance\n",
    "        :type balance: float\n",
    "        :param interestRate: Interest rate\n",
    "        :type interestRate: float\n",
    "        \"\"\"\n",
    "        super().__init__(AccountNumber, pin, balance)\n",
    "        self.IR = interestRate\n",
    "        if type(self.IR) != float or self.IR <= 0.0:\n",
    "            raise TypeError(\"Set Value Error: Type incompatible\")\n",
    "            \n",
    "    def setGainInteres(self):\n",
    "        \"\"\"\n",
    "        This method only obtain the gain interes over certain account; It does not need attributes. \n",
    "        \"\"\"\n",
    "        self.Balance = self.Balance + (self.Balance * self.IR)\n",
    "        print(\"Current Balance with {}% is ${}\\n\".format(self.IR,self.Balance))\n",
    "        "
   ]
  },
  {
   "cell_type": "code",
   "execution_count": 17,
   "metadata": {},
   "outputs": [
    {
     "name": "stdout",
     "output_type": "stream",
     "text": [
      "Current Balance with 0.3% is $1300.0\n",
      "\n"
     ]
    }
   ],
   "source": [
    "UserCon = SavingsAccount(190976,1111,1000.0,.3)\n",
    "\n",
    "UserCon.setGainInteres()"
   ]
  },
  {
   "cell_type": "code",
   "execution_count": 18,
   "metadata": {},
   "outputs": [],
   "source": [
    "class FeeSavingsAccount(SavingsAccount):\n",
    "    \"\"\"\n",
    "    This is a child classs from SavingsAccount which contains one additional attribute; It\n",
    "    carry out one method.\n",
    "    \n",
    "    ------------Atributes------------\n",
    "    Fee\n",
    "    ------------Methods------------\n",
    "    Withdraw\n",
    "    -------------------------------\n",
    "    \"\"\"\n",
    "    \n",
    "    def __init__(self, AccountNumber, pin, balance, interestRate, fee):\n",
    "        \"\"\"\n",
    "        This methotd builds a new Savings Account inheritance.\n",
    "        \n",
    "        :param AccountNumber: Account number\n",
    "        :type AccountNumber: int\n",
    "        :param pin: Pin\n",
    "        :type pin: int\n",
    "        :param balance: Account balance\n",
    "        :type balance: float\n",
    "        :param interestRate: Interest rate\n",
    "        :type interestRate: float\n",
    "        :param fee: float\n",
    "        :type fee: float\n",
    "        \"\"\"\n",
    "        super().__init__(AccountNumber, pin, balance, interestRate)\n",
    "        self.Fee = fee\n",
    "        if type(self.Fee) != float or self.Fee <= 0.0:\n",
    "            raise TypeError(\"Set Value Error: Type incompatible\")\n",
    "        \n",
    "    def setwithDraw(self, Cacc, Cpin, amount):\n",
    "        \"\"\"\n",
    "        This method perform a withdraw operation and does not return something; it verify \n",
    "        if the account and pin are correct, in addition the withdraw recives a fee.  \n",
    "        \n",
    "        :param Cacc: Account number confirmation\n",
    "        :type Cacc: int\n",
    "        :param Cpin: Pin confirmation\n",
    "        :type Cpin: int\n",
    "        :param amount: New amount to deposit\n",
    "        :type amount: float\n",
    "        \"\"\"\n",
    "        if type(amount) == float:\n",
    "            if self.Pin == Cpin and self.Anumb == Cacc:\n",
    "                if self.Balance == 0.0 or self.Balance < amount:\n",
    "                    print(\"You don not have enough money to carry out this operation.\\n\")\n",
    "                    print(\"Account balance: {}\\n\".format(self.Balance))\n",
    "                    \n",
    "                else:\n",
    "                    amount = amount + (amount * self.Fee)\n",
    "                    self.Balance = self.Balance - amount\n",
    "                    print(\"Current Balance: {}\\n\".format(self.Balance))\n",
    "            else:\n",
    "                print(\"The pin or account typed does not match the registered before.\\n\")\n",
    "        else:\n",
    "            raise TypeError(\"Set Value Error: Type incompatible\")\n",
    "        "
   ]
  },
  {
   "cell_type": "code",
   "execution_count": 19,
   "metadata": {},
   "outputs": [],
   "source": [
    "UserCon = FeeSavingsAccount(190976,1111,1000.0,.3,.1)"
   ]
  },
  {
   "cell_type": "code",
   "execution_count": 20,
   "metadata": {},
   "outputs": [
    {
     "name": "stdout",
     "output_type": "stream",
     "text": [
      "Current Balance: 780.0\n",
      "\n"
     ]
    }
   ],
   "source": [
    "UserCon.setwithDraw(190976,1111,200.0)"
   ]
  },
  {
   "cell_type": "code",
   "execution_count": null,
   "metadata": {},
   "outputs": [],
   "source": []
  }
 ],
 "metadata": {
  "kernelspec": {
   "display_name": "Python 3",
   "language": "python",
   "name": "python3"
  },
  "language_info": {
   "codemirror_mode": {
    "name": "ipython",
    "version": 3
   },
   "file_extension": ".py",
   "mimetype": "text/x-python",
   "name": "python",
   "nbconvert_exporter": "python",
   "pygments_lexer": "ipython3",
   "version": "3.8.3"
  }
 },
 "nbformat": 4,
 "nbformat_minor": 4
}
