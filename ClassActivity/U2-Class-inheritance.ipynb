{
 "cells": [
  {
   "cell_type": "code",
   "execution_count": 1,
   "metadata": {},
   "outputs": [],
   "source": [
    "class Person:\n",
    "    def __init__(self, fname, lname, age):\n",
    "        self.firstName = fname\n",
    "        self.lastName = lname\n",
    "        self.age = age\n",
    "    \n",
    "    def display(self):\n",
    "        print(\"Persons full name is {} {} and has an age of {} years.\".format(self.firstName, self.lastName, self.age))\n",
    "        \n",
    "    def ageUp(self, amount):\n",
    "        self.age = self.age + amount\n",
    "    \n",
    "    def ageDown(self, amount):\n",
    "        self.age = self.age - amount\n",
    "    \n",
    "    def birthday(self):\n",
    "        self.age = self.age + 1"
   ]
  },
  {
   "cell_type": "code",
   "execution_count": 2,
   "metadata": {},
   "outputs": [],
   "source": [
    "class Professor(Person):\n",
    "    def __init__(self, fname, lname, age, courses):\n",
    "        super().__init__(fname, lname, age)\n",
    "        self.coursesList = courses\n",
    "    \n",
    "    def courses(self):\n",
    "        coursesString = ', '.join(self.coursesList)\n",
    "        print(\"Professor {} teaches {}.\".format(self.lastName, coursesString))"
   ]
  },
  {
   "cell_type": "code",
   "execution_count": 3,
   "metadata": {},
   "outputs": [],
   "source": [
    "class Student(Person):\n",
    "    def __init__(self, fname, lname, age, courses, grades):\n",
    "        super().__init__(fname, lname, age)\n",
    "        self.coursesList = courses\n",
    "        self.gradesList = grades\n",
    "    \n",
    "    def courses(self):\n",
    "        coursesString = ', '.join(self.coursesList)\n",
    "        coursesGrades = ', '.join(self.gradesList)\n",
    "        print(\"\\t####\")\n",
    "        print(\"\\tUPY\")\n",
    "        print(\"\\t####\")\n",
    "        print(\"Student: {} {}\\nCourses: {}\\nGrades: {}\\n\".format(self.firstName,self.lastName, coursesString,coursesGrades))"
   ]
  },
  {
   "cell_type": "code",
   "execution_count": 4,
   "metadata": {},
   "outputs": [],
   "source": [
    "student1 = Student(\"Pedro\",\"Uicab\",21,[\"PP\",\"DP\",\"EI\"],[\"9\",\"10\",\"8\"])"
   ]
  },
  {
   "cell_type": "code",
   "execution_count": 5,
   "metadata": {},
   "outputs": [
    {
     "name": "stdout",
     "output_type": "stream",
     "text": [
      "\t####\n",
      "\tUPY\n",
      "\t####\n",
      "Student: Pedro Uicab\n",
      "Courses: PP, DP, EI\n",
      "Grades: 9, 10, 8\n",
      "\n"
     ]
    }
   ],
   "source": [
    "student1.courses()"
   ]
  },
  {
   "cell_type": "code",
   "execution_count": null,
   "metadata": {},
   "outputs": [],
   "source": []
  }
 ],
 "metadata": {
  "kernelspec": {
   "display_name": "Python 3",
   "language": "python",
   "name": "python3"
  },
  "language_info": {
   "codemirror_mode": {
    "name": "ipython",
    "version": 3
   },
   "file_extension": ".py",
   "mimetype": "text/x-python",
   "name": "python",
   "nbconvert_exporter": "python",
   "pygments_lexer": "ipython3",
   "version": "3.8.3"
  }
 },
 "nbformat": 4,
 "nbformat_minor": 4
}
