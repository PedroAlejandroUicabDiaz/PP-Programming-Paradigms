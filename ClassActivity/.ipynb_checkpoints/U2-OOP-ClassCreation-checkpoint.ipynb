{
 "cells": [
  {
   "cell_type": "markdown",
   "metadata": {},
   "source": [
    "# Programming Paradigms \n",
    "\n",
    "## UNIT 2 .- OBJECT-ORIENTED PROGRAMMING\n",
    "\n",
    "###  CLASSES CREATION \n",
    "\n",
    "#### Professor: Romeo de Coss Martinez                      \n",
    "\n",
    "#### Student: Pedro Alejandro Uicab Diaz             \n",
    "#### Group: Data 3-A"
   ]
  },
  {
   "cell_type": "markdown",
   "metadata": {},
   "source": [
    " ---"
   ]
  },
  {
   "cell_type": "markdown",
   "metadata": {},
   "source": [
    "### Clas Activity"
   ]
  },
  {
   "cell_type": "code",
   "execution_count": 1,
   "metadata": {},
   "outputs": [],
   "source": [
    "# Creation of class Person type\n",
    "class Person:\n",
    "    \n",
    "    def __init__(self): # Auto reference\n",
    "        pass"
   ]
  },
  {
   "cell_type": "code",
   "execution_count": 2,
   "metadata": {},
   "outputs": [
    {
     "name": "stdout",
     "output_type": "stream",
     "text": [
      "<__main__.Person object at 0x000001E57AF99070>\n"
     ]
    }
   ],
   "source": [
    "studentA = Person()\n",
    "print(studentA)"
   ]
  },
  {
   "cell_type": "code",
   "execution_count": 3,
   "metadata": {},
   "outputs": [],
   "source": [
    "class Person:\n",
    "    \n",
    "    def __init__(self):\n",
    "        self.name = \"Pedro\"\n",
    "        self.age = 21"
   ]
  },
  {
   "cell_type": "code",
   "execution_count": 4,
   "metadata": {},
   "outputs": [
    {
     "name": "stdout",
     "output_type": "stream",
     "text": [
      "My name is Pedro and I am 21 years old\n"
     ]
    }
   ],
   "source": [
    "studentA = Person()\n",
    "\n",
    "print(\"My name is\",studentA.name,\"and I am\",studentA.age,\"years old\")"
   ]
  },
  {
   "cell_type": "code",
   "execution_count": 5,
   "metadata": {},
   "outputs": [
    {
     "name": "stdout",
     "output_type": "stream",
     "text": [
      "My name is Pedro and I am 21 years old\n"
     ]
    }
   ],
   "source": [
    "# Both variable has the same data\n",
    "studentB = Person()\n",
    "print(\"My name is\",studentB.name,\"and I am\",studentB.age,\"years old\")"
   ]
  },
  {
   "cell_type": "code",
   "execution_count": 6,
   "metadata": {},
   "outputs": [],
   "source": [
    "# Some changes to pass parameters\n",
    "class Person:\n",
    "    \n",
    "    def __init__(self, name, age): # Adding new parameters\n",
    "        self.name = name\n",
    "        self.age = age"
   ]
  },
  {
   "cell_type": "code",
   "execution_count": 7,
   "metadata": {},
   "outputs": [],
   "source": [
    "studentA = Person(\"Pedro\",20)\n",
    "studentB = Person(\"Joel\",27)"
   ]
  },
  {
   "cell_type": "code",
   "execution_count": 8,
   "metadata": {},
   "outputs": [
    {
     "name": "stdout",
     "output_type": "stream",
     "text": [
      "My name is Pedro and I am 20 years old\n",
      "My name is Joel and I am 27 years old\n"
     ]
    }
   ],
   "source": [
    "# As you notice both variables has different data\n",
    "print(\"My name is\",studentA.name,\"and I am\",studentA.age,\"years old\")\n",
    "print(\"My name is\",studentB.name,\"and I am\",studentB.age,\"years old\")"
   ]
  },
  {
   "cell_type": "code",
   "execution_count": 9,
   "metadata": {},
   "outputs": [
    {
     "name": "stdout",
     "output_type": "stream",
     "text": [
      "My name is 27 and I am Joel years old\n"
     ]
    }
   ],
   "source": [
    "# But python can't identify if we are passing the correct data type to it\n",
    "studentB = Person(27,\"Joel\")\n",
    "print(\"My name is\",studentB.name,\"and I am\",studentB.age,\"years old\")"
   ]
  },
  {
   "cell_type": "code",
   "execution_count": 10,
   "metadata": {},
   "outputs": [],
   "source": [
    "# How can we fix it? \n",
    "class Person:\n",
    "    \n",
    "    def __init__(self):\n",
    "        self.name = None\n",
    "        self.age = None\n",
    "    \n",
    "    def setName(self, name): \n",
    "        if type(name) == str:\n",
    "            self.name = name\n",
    "        else:\n",
    "            print(\"Error: Type incompatible\") # Alert Message\n",
    "        \n",
    "    def setAge(self, age):\n",
    "        if type(age) == int:\n",
    "            self.age = age\n",
    "        else:\n",
    "            print(\"Error: Type incompatible\") # Alert Message\n",
    "    "
   ]
  },
  {
   "cell_type": "code",
   "execution_count": 11,
   "metadata": {},
   "outputs": [],
   "source": [
    "# First student \n",
    "studentA = Person()\n",
    "studentA.setName(\"Pedro\")\n",
    "studentA.setAge(21)"
   ]
  },
  {
   "cell_type": "code",
   "execution_count": 12,
   "metadata": {},
   "outputs": [
    {
     "name": "stdout",
     "output_type": "stream",
     "text": [
      "Error: Type incompatible\n",
      "Error: Type incompatible\n"
     ]
    }
   ],
   "source": [
    "# Second student\n",
    "studentA = Person()\n",
    "studentA.setName(23) # Error\n",
    "studentA.setAge(\"Joel\") # Error"
   ]
  },
  {
   "cell_type": "code",
   "execution_count": 13,
   "metadata": {},
   "outputs": [
    {
     "name": "stdout",
     "output_type": "stream",
     "text": [
      "My name is 27 and I am Joel years old\n"
     ]
    }
   ],
   "source": [
    "# But the problem is not yet solved\n",
    "print(\"My name is\",studentB.name,\"and I am\",studentB.age,\"years old\")"
   ]
  },
  {
   "cell_type": "code",
   "execution_count": 14,
   "metadata": {},
   "outputs": [],
   "source": [
    "# First we will complet the code\n",
    "class Person:\n",
    "    \n",
    "    def __init__(self, fname, lname, age): #Auto reference\n",
    "        self.setFirstName(fname)\n",
    "        self.setLastName(lname)\n",
    "        self.setAge(age)\n",
    "        \n",
    "    def setFirstName(self, fname):\n",
    "        if type(fname) == str:\n",
    "            self.fname = fname\n",
    "        else: # Alert message\n",
    "            print(\"Set First Name Error: Type Incompatible\")\n",
    "    \n",
    "    def setLastName(self, lname):\n",
    "        if type(lname) == str:\n",
    "            self.lname = lname\n",
    "        else: # Alert message\n",
    "            print(\"Set Last Name Error: Type Incompatible\")\n",
    "    \n",
    "    def setAge(self, age):\n",
    "        if type(age) == int:\n",
    "            if age < 0: # Alert message\n",
    "                print(\"Set Age Error: Negative value\")\n",
    "            else:\n",
    "                self.age = age\n",
    "        else: # Alert message\n",
    "            print(\"Set Age Error: Type Incompatible\")\n",
    "            "
   ]
  },
  {
   "cell_type": "code",
   "execution_count": 15,
   "metadata": {},
   "outputs": [],
   "source": [
    "studentA = Person(\"Pedro\",\"Uicab\",21)"
   ]
  },
  {
   "cell_type": "code",
   "execution_count": 16,
   "metadata": {},
   "outputs": [
    {
     "name": "stdout",
     "output_type": "stream",
     "text": [
      "My name is Pedro Uicab and I am 21 years old\n"
     ]
    }
   ],
   "source": [
    "# First student\n",
    "print(\"My name is\",studentA.fname,studentA.lname,\"and I am\",studentA.age,\"years old\")"
   ]
  },
  {
   "cell_type": "code",
   "execution_count": 17,
   "metadata": {},
   "outputs": [
    {
     "name": "stdout",
     "output_type": "stream",
     "text": [
      "Set First Name Error: Type Incompatible\n",
      "Set Age Error: Type Incompatible\n"
     ]
    }
   ],
   "source": [
    "# Error\n",
    "studentB = Person(22,\"Ramirez\",\"Joel\")"
   ]
  },
  {
   "cell_type": "code",
   "execution_count": 18,
   "metadata": {},
   "outputs": [
    {
     "name": "stdout",
     "output_type": "stream",
     "text": [
      "<__main__.Person object at 0x000001E57AFECD60>\n"
     ]
    }
   ],
   "source": [
    "# The object is still created\n",
    "print(studentB)"
   ]
  },
  {
   "cell_type": "code",
   "execution_count": 19,
   "metadata": {},
   "outputs": [],
   "source": [
    "# Create again with documentation about the class\n",
    "\n",
    "class Person:\n",
    "    \n",
    "    \"\"\" \n",
    "    This is a class which represents a person. It is mainly a demo class.\n",
    "    It stores information about firs and last name and age.\n",
    "    \n",
    "    \"\"\"\n",
    "    \n",
    "    def __init__(self, fname, lname, age): #Auto reference\n",
    "        \"\"\"\n",
    "        This method creates a new person.\n",
    "        :param fname: first name\n",
    "        :type fname: str\n",
    "        :param lname: last name\n",
    "        :type lname: str\n",
    "        :param age: age\n",
    "        :type age: int\n",
    "        \"\"\"\n",
    "        self.setFirstName(fname)\n",
    "        self.setLastName(lname)\n",
    "        self.setAge(age)\n",
    "        \n",
    "    def __eq__(self, other):\n",
    "        return (self.fname == other.fname) and (self.lname == other.lname) and (self.age == other.age)\n",
    "        \n",
    "    def setFirstName(self, fname):\n",
    "        \"\"\"\n",
    "        This function sets the first name of the person.\n",
    "        :param fname: first name\n",
    "        :type fname: str\n",
    "        \"\"\"\n",
    "        if type(fname) == str:\n",
    "            self.fname = fname\n",
    "        else: # Alert message\n",
    "            raise TypeError(\"Set First Name Error: Type incompatible\")\n",
    "    \n",
    "    def setLastName(self, lname):\n",
    "        \"\"\"\n",
    "        This function sets the last name of the person.\n",
    "        :param lname: last name\n",
    "        :type lname: str\n",
    "        \"\"\"\n",
    "        if type(lname) == str:\n",
    "            self.lname = lname\n",
    "        else: # Alert message\n",
    "            raise TypeError(\"Set Last Name Error: Type incompatible\")\n",
    "    \n",
    "    def setAge(self, age):\n",
    "        \"\"\"\n",
    "        This function sets the age of the person.\n",
    "        :param age: age\n",
    "        :type age: int\n",
    "        \"\"\"\n",
    "        if type(age) == int:\n",
    "            if age < 0: # Alert message\n",
    "                raise ValueError(\"Set Age Error: Negative value\")\n",
    "            else:\n",
    "                self.age = age\n",
    "        else: # Alert message\n",
    "            TypeError(\"Set Age Error: Type incompatible\")\n",
    "            "
   ]
  },
  {
   "cell_type": "code",
   "execution_count": 21,
   "metadata": {},
   "outputs": [],
   "source": [
    "# Error ready\n",
    "#studentB = Person(22,\"Ramirez\",\"Joel\")"
   ]
  },
  {
   "cell_type": "code",
   "execution_count": 22,
   "metadata": {},
   "outputs": [
    {
     "name": "stdout",
     "output_type": "stream",
     "text": [
      "Help on class Person in module __main__:\n",
      "\n",
      "class Person(builtins.object)\n",
      " |  Person(fname, lname, age)\n",
      " |  \n",
      " |  This is a class which represents a person. It is mainly a demo class.\n",
      " |  It store information about firs and last name and age.\n",
      " |  \n",
      " |  Methods defined here:\n",
      " |  \n",
      " |  __eq__(self, other)\n",
      " |      Return self==value.\n",
      " |  \n",
      " |  __init__(self, fname, lname, age)\n",
      " |      This method creates a new person.\n",
      " |      :param fname: first name\n",
      " |      :type fname: str\n",
      " |      :param lname: last name\n",
      " |      :type lname: str\n",
      " |      :param age: age\n",
      " |      :type age: int\n",
      " |  \n",
      " |  setAge(self, age)\n",
      " |      This function sets the age of the person.\n",
      " |      :param age: age\n",
      " |      :type age: int\n",
      " |  \n",
      " |  setFirstName(self, fname)\n",
      " |      This function sets the first name of the person.\n",
      " |      :param fname: first name\n",
      " |      :type fname: str\n",
      " |  \n",
      " |  setLastName(self, lname)\n",
      " |      This function sets the last name of the person.\n",
      " |      :param lname: last name\n",
      " |      :type lname: str\n",
      " |  \n",
      " |  ----------------------------------------------------------------------\n",
      " |  Data descriptors defined here:\n",
      " |  \n",
      " |  __dict__\n",
      " |      dictionary for instance variables (if defined)\n",
      " |  \n",
      " |  __weakref__\n",
      " |      list of weak references to the object (if defined)\n",
      " |  \n",
      " |  ----------------------------------------------------------------------\n",
      " |  Data and other attributes defined here:\n",
      " |  \n",
      " |  __hash__ = None\n",
      "\n"
     ]
    }
   ],
   "source": [
    "help(Person)"
   ]
  },
  {
   "cell_type": "code",
   "execution_count": 23,
   "metadata": {},
   "outputs": [
    {
     "name": "stdout",
     "output_type": "stream",
     "text": [
      "Help on method_descriptor:\n",
      "\n",
      "startswith(...)\n",
      "    S.startswith(prefix[, start[, end]]) -> bool\n",
      "    \n",
      "    Return True if S starts with the specified prefix, False otherwise.\n",
      "    With optional start, test S beginning at that position.\n",
      "    With optional end, stop comparing S at that position.\n",
      "    prefix can also be a tuple of strings to try.\n",
      "\n"
     ]
    }
   ],
   "source": [
    "help(str.startswith)"
   ]
  },
  {
   "cell_type": "code",
   "execution_count": 24,
   "metadata": {},
   "outputs": [
    {
     "name": "stdout",
     "output_type": "stream",
     "text": [
      "Help on function setAge in module __main__:\n",
      "\n",
      "setAge(self, age)\n",
      "    This function sets the age of the person.\n",
      "    :param age: age\n",
      "    :type age: int\n",
      "\n"
     ]
    }
   ],
   "source": [
    "help(Person.setAge)"
   ]
  },
  {
   "cell_type": "code",
   "execution_count": 25,
   "metadata": {},
   "outputs": [],
   "source": [
    "studentB = Person(\"Joel\",\"Ramirez\",27)"
   ]
  },
  {
   "cell_type": "code",
   "execution_count": 26,
   "metadata": {},
   "outputs": [
    {
     "name": "stdout",
     "output_type": "stream",
     "text": [
      "My name is Pedro Uicab and I am 21 years old\n",
      "My name is Joel Ramirez and I am 27 years old\n"
     ]
    }
   ],
   "source": [
    "print(\"My name is\",studentA.fname,studentA.lname,\"and I am\",studentA.age,\"years old\")\n",
    "print(\"My name is\",studentB.fname,studentB.lname,\"and I am\",studentB.age,\"years old\")"
   ]
  },
  {
   "cell_type": "code",
   "execution_count": 27,
   "metadata": {},
   "outputs": [
    {
     "data": {
      "text/plain": [
       "False"
      ]
     },
     "execution_count": 27,
     "metadata": {},
     "output_type": "execute_result"
    }
   ],
   "source": [
    "studentA == studentB"
   ]
  },
  {
   "cell_type": "code",
   "execution_count": 28,
   "metadata": {},
   "outputs": [
    {
     "data": {
      "text/plain": [
       "True"
      ]
     },
     "execution_count": 28,
     "metadata": {},
     "output_type": "execute_result"
    }
   ],
   "source": [
    "studentA != studentB"
   ]
  },
  {
   "cell_type": "code",
   "execution_count": null,
   "metadata": {},
   "outputs": [],
   "source": []
  },
  {
   "cell_type": "code",
   "execution_count": null,
   "metadata": {},
   "outputs": [],
   "source": []
  }
 ],
 "metadata": {
  "kernelspec": {
   "display_name": "Python 3",
   "language": "python",
   "name": "python3"
  },
  "language_info": {
   "codemirror_mode": {
    "name": "ipython",
    "version": 3
   },
   "file_extension": ".py",
   "mimetype": "text/x-python",
   "name": "python",
   "nbconvert_exporter": "python",
   "pygments_lexer": "ipython3",
   "version": "3.8.3"
  }
 },
 "nbformat": 4,
 "nbformat_minor": 4
}
